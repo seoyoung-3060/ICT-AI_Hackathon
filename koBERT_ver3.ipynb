{
  "cells": [
    {
      "cell_type": "code",
      "execution_count": null,
      "metadata": {
        "id": "Fx_EH6abHVSs",
        "colab": {
          "base_uri": "https://localhost:8080/"
        },
        "outputId": "cfa6a8c6-2397-4d8a-9e79-bfd0a727ccd7"
      },
      "outputs": [
        {
          "output_type": "stream",
          "name": "stdout",
          "text": [
            "Drive already mounted at /content/drive; to attempt to forcibly remount, call drive.mount(\"/content/drive\", force_remount=True).\n"
          ]
        }
      ],
      "source": [
        "import os, sys\n",
        "from google.colab import drive\n",
        "drive.mount('/content/drive')"
      ]
    },
    {
      "cell_type": "code",
      "execution_count": null,
      "metadata": {
        "id": "iXWIEDhLQBnv",
        "colab": {
          "base_uri": "https://localhost:8080/",
          "height": 36
        },
        "outputId": "d3a322a5-2e04-4263-9928-fad16d00d03a"
      },
      "outputs": [
        {
          "output_type": "execute_result",
          "data": {
            "text/plain": [
              "'/content/drive/MyDrive/Colab Notebooks/AI_Hackathon'"
            ],
            "application/vnd.google.colaboratory.intrinsic+json": {
              "type": "string"
            }
          },
          "metadata": {},
          "execution_count": 3
        }
      ],
      "source": [
        "import os\n",
        "os.getcwd()\n",
        "PATH = os.getcwd() + '/drive/MyDrive/Colab Notebooks/AI_Hackathon'\n",
        "#PATH = os.getcwd() + '/drive/MyDrive/AI_Hackathon' # seeun\n",
        "os.chdir(PATH)\n",
        "os.getcwd()"
      ]
    },
    {
      "cell_type": "code",
      "execution_count": null,
      "metadata": {
        "id": "FFrlpDhG3oYN",
        "colab": {
          "base_uri": "https://localhost:8080/"
        },
        "outputId": "05caaec7-2c48-4e6a-c7cf-0cd7c9a461b9"
      },
      "outputs": [
        {
          "output_type": "stream",
          "name": "stdout",
          "text": [
            "사용 디바이스: cuda\n"
          ]
        }
      ],
      "source": [
        "import os\n",
        "import numpy as np\n",
        "import torch\n",
        "import torch.nn as nn\n",
        "import torch.optim as optim\n",
        "import torch.nn.functional as F\n",
        "\n",
        "\n",
        "# 토크나이저 관련 경고 무시\n",
        "os.environ[\"TOKENIZERS_PARALLELISM\"] = 'true'\n",
        "\n",
        "# device 지정\n",
        "device = torch.device('cuda' if torch.cuda.is_available() else 'cpu')\n",
        "print(f'사용 디바이스: {device}')"
      ]
    },
    {
      "cell_type": "code",
      "execution_count": null,
      "metadata": {
        "id": "1_RHF0GS3ot8"
      },
      "outputs": [],
      "source": [
        "import pandas as pd\n",
        "import sklearn\n",
        "from sklearn.model_selection import train_test_split\n",
        "\n",
        "voice_df = pd.read_csv('/content/drive/MyDrive/Colab Notebooks/AI_Hackathon/data/voice_df_f.csv', sep='\\t')"
      ]
    },
    {
      "cell_type": "code",
      "execution_count": null,
      "metadata": {
        "id": "XT8vTxgqYjyv",
        "colab": {
          "base_uri": "https://localhost:8080/"
        },
        "outputId": "454a85b4-70d4-46ce-91cc-fae1c95fa8b8"
      },
      "outputs": [
        {
          "output_type": "execute_result",
          "data": {
            "text/plain": [
              "Unnamed: 0    0\n",
              "content       0\n",
              "target        0\n",
              "dtype: int64"
            ]
          },
          "metadata": {},
          "execution_count": 6
        }
      ],
      "source": [
        "voice_df.isnull().sum()"
      ]
    },
    {
      "cell_type": "code",
      "execution_count": null,
      "metadata": {
        "id": "_2F76KXxguv3"
      },
      "outputs": [],
      "source": [
        "from sklearn.utils import resample\n",
        "import pandas as pd\n",
        "\n",
        "# voice_df 데이터프레임에서 content와 target 컬럼 추출\n",
        "X = voice_df['content']\n",
        "y = voice_df['target']\n",
        "\n",
        "# 클래스 0와 클래스 1을 분리\n",
        "class_0 = voice_df[voice_df['target'] == 0]\n",
        "class_1 = voice_df[voice_df['target'] == 1]\n",
        "\n",
        "# 클래스 1을 2배 복제하여 오버샘플링\n",
        "oversampled_class_1 = resample(class_1, replace=True, n_samples=len(class_1) * 2)\n",
        "\n",
        "# 클래스 0와 클래스 1을 합쳐 오버샘플링된 데이터 생성\n",
        "voice = pd.concat([class_0, oversampled_class_1])\n"
      ]
    },
    {
      "cell_type": "code",
      "execution_count": null,
      "metadata": {
        "id": "8QQaJvNpgyEY",
        "colab": {
          "base_uri": "https://localhost:8080/"
        },
        "outputId": "c36cdc93-e8b6-44cc-bca8-da9edc1c1005"
      },
      "outputs": [
        {
          "output_type": "execute_result",
          "data": {
            "text/plain": [
              "Unnamed: 0                                              3107829\n",
              "content       친애하다 판사 라는 관련 드라마무한도전 완전 폐지 돼다 없어지다 무한도전 자주 자다...\n",
              "target                                                        0\n",
              "dtype: object"
            ]
          },
          "metadata": {},
          "execution_count": 8
        }
      ],
      "source": [
        "class_0.sum()"
      ]
    },
    {
      "cell_type": "code",
      "execution_count": null,
      "metadata": {
        "id": "If5TinCUg5XT",
        "colab": {
          "base_uri": "https://localhost:8080/",
          "height": 423
        },
        "outputId": "fdcea594-b6d2-46f0-da5d-0c359f983b57"
      },
      "outputs": [
        {
          "output_type": "execute_result",
          "data": {
            "text/plain": [
              "      Unnamed: 0                                            content  target\n",
              "1012        1012                                  친애하다 판사 라는 관련 드라마       0\n",
              "1013        1013                  무한도전 완전 폐지 돼다 없어지다 무한도전 자주 자다 챙기다       0\n",
              "1014        1014                                                 따다       0\n",
              "1015        1015                          지다 호랑 계단 올라오다 운동 대요 서다 운동       0\n",
              "1016        1016                                              뭔가 효과       0\n",
              "...          ...                                                ...     ...\n",
              "2686        2686          개월 개월 할부 해주다 카드 번호 고요 비밀번호 자리 땡땡 이제 가입 결제       0\n",
              "2687        2687  년생 년생 이니까 년생 년생 할인 넣다 가입 쿠폰 해주다 강의 신청 가능하다 신청 ...       0\n",
              "2688        2688         아이디 다빈 해주다 비밀번호 케이 지다 김표 느낌표 해주다 이메일 자주 쓰다       0\n",
              "2689        2689  문자 보내다 인강 듣다 방법 시간표 보내다 교재 최대한 빨리 보내다 수업 주일 주일...       0\n",
              "2690        2690                                           개강 문자 가다       0\n",
              "\n",
              "[1679 rows x 3 columns]"
            ],
            "text/html": [
              "\n",
              "  <div id=\"df-8d4fde7f-8d93-4942-9a3e-beacb816354d\" class=\"colab-df-container\">\n",
              "    <div>\n",
              "<style scoped>\n",
              "    .dataframe tbody tr th:only-of-type {\n",
              "        vertical-align: middle;\n",
              "    }\n",
              "\n",
              "    .dataframe tbody tr th {\n",
              "        vertical-align: top;\n",
              "    }\n",
              "\n",
              "    .dataframe thead th {\n",
              "        text-align: right;\n",
              "    }\n",
              "</style>\n",
              "<table border=\"1\" class=\"dataframe\">\n",
              "  <thead>\n",
              "    <tr style=\"text-align: right;\">\n",
              "      <th></th>\n",
              "      <th>Unnamed: 0</th>\n",
              "      <th>content</th>\n",
              "      <th>target</th>\n",
              "    </tr>\n",
              "  </thead>\n",
              "  <tbody>\n",
              "    <tr>\n",
              "      <th>1012</th>\n",
              "      <td>1012</td>\n",
              "      <td>친애하다 판사 라는 관련 드라마</td>\n",
              "      <td>0</td>\n",
              "    </tr>\n",
              "    <tr>\n",
              "      <th>1013</th>\n",
              "      <td>1013</td>\n",
              "      <td>무한도전 완전 폐지 돼다 없어지다 무한도전 자주 자다 챙기다</td>\n",
              "      <td>0</td>\n",
              "    </tr>\n",
              "    <tr>\n",
              "      <th>1014</th>\n",
              "      <td>1014</td>\n",
              "      <td>따다</td>\n",
              "      <td>0</td>\n",
              "    </tr>\n",
              "    <tr>\n",
              "      <th>1015</th>\n",
              "      <td>1015</td>\n",
              "      <td>지다 호랑 계단 올라오다 운동 대요 서다 운동</td>\n",
              "      <td>0</td>\n",
              "    </tr>\n",
              "    <tr>\n",
              "      <th>1016</th>\n",
              "      <td>1016</td>\n",
              "      <td>뭔가 효과</td>\n",
              "      <td>0</td>\n",
              "    </tr>\n",
              "    <tr>\n",
              "      <th>...</th>\n",
              "      <td>...</td>\n",
              "      <td>...</td>\n",
              "      <td>...</td>\n",
              "    </tr>\n",
              "    <tr>\n",
              "      <th>2686</th>\n",
              "      <td>2686</td>\n",
              "      <td>개월 개월 할부 해주다 카드 번호 고요 비밀번호 자리 땡땡 이제 가입 결제</td>\n",
              "      <td>0</td>\n",
              "    </tr>\n",
              "    <tr>\n",
              "      <th>2687</th>\n",
              "      <td>2687</td>\n",
              "      <td>년생 년생 이니까 년생 년생 할인 넣다 가입 쿠폰 해주다 강의 신청 가능하다 신청 ...</td>\n",
              "      <td>0</td>\n",
              "    </tr>\n",
              "    <tr>\n",
              "      <th>2688</th>\n",
              "      <td>2688</td>\n",
              "      <td>아이디 다빈 해주다 비밀번호 케이 지다 김표 느낌표 해주다 이메일 자주 쓰다</td>\n",
              "      <td>0</td>\n",
              "    </tr>\n",
              "    <tr>\n",
              "      <th>2689</th>\n",
              "      <td>2689</td>\n",
              "      <td>문자 보내다 인강 듣다 방법 시간표 보내다 교재 최대한 빨리 보내다 수업 주일 주일...</td>\n",
              "      <td>0</td>\n",
              "    </tr>\n",
              "    <tr>\n",
              "      <th>2690</th>\n",
              "      <td>2690</td>\n",
              "      <td>개강 문자 가다</td>\n",
              "      <td>0</td>\n",
              "    </tr>\n",
              "  </tbody>\n",
              "</table>\n",
              "<p>1679 rows × 3 columns</p>\n",
              "</div>\n",
              "    <div class=\"colab-df-buttons\">\n",
              "\n",
              "  <div class=\"colab-df-container\">\n",
              "    <button class=\"colab-df-convert\" onclick=\"convertToInteractive('df-8d4fde7f-8d93-4942-9a3e-beacb816354d')\"\n",
              "            title=\"Convert this dataframe to an interactive table.\"\n",
              "            style=\"display:none;\">\n",
              "\n",
              "  <svg xmlns=\"http://www.w3.org/2000/svg\" height=\"24px\" viewBox=\"0 -960 960 960\">\n",
              "    <path d=\"M120-120v-720h720v720H120Zm60-500h600v-160H180v160Zm220 220h160v-160H400v160Zm0 220h160v-160H400v160ZM180-400h160v-160H180v160Zm440 0h160v-160H620v160ZM180-180h160v-160H180v160Zm440 0h160v-160H620v160Z\"/>\n",
              "  </svg>\n",
              "    </button>\n",
              "\n",
              "  <style>\n",
              "    .colab-df-container {\n",
              "      display:flex;\n",
              "      gap: 12px;\n",
              "    }\n",
              "\n",
              "    .colab-df-convert {\n",
              "      background-color: #E8F0FE;\n",
              "      border: none;\n",
              "      border-radius: 50%;\n",
              "      cursor: pointer;\n",
              "      display: none;\n",
              "      fill: #1967D2;\n",
              "      height: 32px;\n",
              "      padding: 0 0 0 0;\n",
              "      width: 32px;\n",
              "    }\n",
              "\n",
              "    .colab-df-convert:hover {\n",
              "      background-color: #E2EBFA;\n",
              "      box-shadow: 0px 1px 2px rgba(60, 64, 67, 0.3), 0px 1px 3px 1px rgba(60, 64, 67, 0.15);\n",
              "      fill: #174EA6;\n",
              "    }\n",
              "\n",
              "    .colab-df-buttons div {\n",
              "      margin-bottom: 4px;\n",
              "    }\n",
              "\n",
              "    [theme=dark] .colab-df-convert {\n",
              "      background-color: #3B4455;\n",
              "      fill: #D2E3FC;\n",
              "    }\n",
              "\n",
              "    [theme=dark] .colab-df-convert:hover {\n",
              "      background-color: #434B5C;\n",
              "      box-shadow: 0px 1px 3px 1px rgba(0, 0, 0, 0.15);\n",
              "      filter: drop-shadow(0px 1px 2px rgba(0, 0, 0, 0.3));\n",
              "      fill: #FFFFFF;\n",
              "    }\n",
              "  </style>\n",
              "\n",
              "    <script>\n",
              "      const buttonEl =\n",
              "        document.querySelector('#df-8d4fde7f-8d93-4942-9a3e-beacb816354d button.colab-df-convert');\n",
              "      buttonEl.style.display =\n",
              "        google.colab.kernel.accessAllowed ? 'block' : 'none';\n",
              "\n",
              "      async function convertToInteractive(key) {\n",
              "        const element = document.querySelector('#df-8d4fde7f-8d93-4942-9a3e-beacb816354d');\n",
              "        const dataTable =\n",
              "          await google.colab.kernel.invokeFunction('convertToInteractive',\n",
              "                                                    [key], {});\n",
              "        if (!dataTable) return;\n",
              "\n",
              "        const docLinkHtml = 'Like what you see? Visit the ' +\n",
              "          '<a target=\"_blank\" href=https://colab.research.google.com/notebooks/data_table.ipynb>data table notebook</a>'\n",
              "          + ' to learn more about interactive tables.';\n",
              "        element.innerHTML = '';\n",
              "        dataTable['output_type'] = 'display_data';\n",
              "        await google.colab.output.renderOutput(dataTable, element);\n",
              "        const docLink = document.createElement('div');\n",
              "        docLink.innerHTML = docLinkHtml;\n",
              "        element.appendChild(docLink);\n",
              "      }\n",
              "    </script>\n",
              "  </div>\n",
              "\n",
              "\n",
              "<div id=\"df-6c3b60b5-244b-4473-b599-c7bc7ff7a764\">\n",
              "  <button class=\"colab-df-quickchart\" onclick=\"quickchart('df-6c3b60b5-244b-4473-b599-c7bc7ff7a764')\"\n",
              "            title=\"Suggest charts\"\n",
              "            style=\"display:none;\">\n",
              "\n",
              "<svg xmlns=\"http://www.w3.org/2000/svg\" height=\"24px\"viewBox=\"0 0 24 24\"\n",
              "     width=\"24px\">\n",
              "    <g>\n",
              "        <path d=\"M19 3H5c-1.1 0-2 .9-2 2v14c0 1.1.9 2 2 2h14c1.1 0 2-.9 2-2V5c0-1.1-.9-2-2-2zM9 17H7v-7h2v7zm4 0h-2V7h2v10zm4 0h-2v-4h2v4z\"/>\n",
              "    </g>\n",
              "</svg>\n",
              "  </button>\n",
              "\n",
              "<style>\n",
              "  .colab-df-quickchart {\n",
              "      --bg-color: #E8F0FE;\n",
              "      --fill-color: #1967D2;\n",
              "      --hover-bg-color: #E2EBFA;\n",
              "      --hover-fill-color: #174EA6;\n",
              "      --disabled-fill-color: #AAA;\n",
              "      --disabled-bg-color: #DDD;\n",
              "  }\n",
              "\n",
              "  [theme=dark] .colab-df-quickchart {\n",
              "      --bg-color: #3B4455;\n",
              "      --fill-color: #D2E3FC;\n",
              "      --hover-bg-color: #434B5C;\n",
              "      --hover-fill-color: #FFFFFF;\n",
              "      --disabled-bg-color: #3B4455;\n",
              "      --disabled-fill-color: #666;\n",
              "  }\n",
              "\n",
              "  .colab-df-quickchart {\n",
              "    background-color: var(--bg-color);\n",
              "    border: none;\n",
              "    border-radius: 50%;\n",
              "    cursor: pointer;\n",
              "    display: none;\n",
              "    fill: var(--fill-color);\n",
              "    height: 32px;\n",
              "    padding: 0;\n",
              "    width: 32px;\n",
              "  }\n",
              "\n",
              "  .colab-df-quickchart:hover {\n",
              "    background-color: var(--hover-bg-color);\n",
              "    box-shadow: 0 1px 2px rgba(60, 64, 67, 0.3), 0 1px 3px 1px rgba(60, 64, 67, 0.15);\n",
              "    fill: var(--button-hover-fill-color);\n",
              "  }\n",
              "\n",
              "  .colab-df-quickchart-complete:disabled,\n",
              "  .colab-df-quickchart-complete:disabled:hover {\n",
              "    background-color: var(--disabled-bg-color);\n",
              "    fill: var(--disabled-fill-color);\n",
              "    box-shadow: none;\n",
              "  }\n",
              "\n",
              "  .colab-df-spinner {\n",
              "    border: 2px solid var(--fill-color);\n",
              "    border-color: transparent;\n",
              "    border-bottom-color: var(--fill-color);\n",
              "    animation:\n",
              "      spin 1s steps(1) infinite;\n",
              "  }\n",
              "\n",
              "  @keyframes spin {\n",
              "    0% {\n",
              "      border-color: transparent;\n",
              "      border-bottom-color: var(--fill-color);\n",
              "      border-left-color: var(--fill-color);\n",
              "    }\n",
              "    20% {\n",
              "      border-color: transparent;\n",
              "      border-left-color: var(--fill-color);\n",
              "      border-top-color: var(--fill-color);\n",
              "    }\n",
              "    30% {\n",
              "      border-color: transparent;\n",
              "      border-left-color: var(--fill-color);\n",
              "      border-top-color: var(--fill-color);\n",
              "      border-right-color: var(--fill-color);\n",
              "    }\n",
              "    40% {\n",
              "      border-color: transparent;\n",
              "      border-right-color: var(--fill-color);\n",
              "      border-top-color: var(--fill-color);\n",
              "    }\n",
              "    60% {\n",
              "      border-color: transparent;\n",
              "      border-right-color: var(--fill-color);\n",
              "    }\n",
              "    80% {\n",
              "      border-color: transparent;\n",
              "      border-right-color: var(--fill-color);\n",
              "      border-bottom-color: var(--fill-color);\n",
              "    }\n",
              "    90% {\n",
              "      border-color: transparent;\n",
              "      border-bottom-color: var(--fill-color);\n",
              "    }\n",
              "  }\n",
              "</style>\n",
              "\n",
              "  <script>\n",
              "    async function quickchart(key) {\n",
              "      const quickchartButtonEl =\n",
              "        document.querySelector('#' + key + ' button');\n",
              "      quickchartButtonEl.disabled = true;  // To prevent multiple clicks.\n",
              "      quickchartButtonEl.classList.add('colab-df-spinner');\n",
              "      try {\n",
              "        const charts = await google.colab.kernel.invokeFunction(\n",
              "            'suggestCharts', [key], {});\n",
              "      } catch (error) {\n",
              "        console.error('Error during call to suggestCharts:', error);\n",
              "      }\n",
              "      quickchartButtonEl.classList.remove('colab-df-spinner');\n",
              "      quickchartButtonEl.classList.add('colab-df-quickchart-complete');\n",
              "    }\n",
              "    (() => {\n",
              "      let quickchartButtonEl =\n",
              "        document.querySelector('#df-6c3b60b5-244b-4473-b599-c7bc7ff7a764 button');\n",
              "      quickchartButtonEl.style.display =\n",
              "        google.colab.kernel.accessAllowed ? 'block' : 'none';\n",
              "    })();\n",
              "  </script>\n",
              "</div>\n",
              "    </div>\n",
              "  </div>\n"
            ]
          },
          "metadata": {},
          "execution_count": 9
        }
      ],
      "source": [
        "class_0"
      ]
    },
    {
      "cell_type": "code",
      "execution_count": null,
      "metadata": {
        "id": "pBXAYLcng1AY",
        "colab": {
          "base_uri": "https://localhost:8080/"
        },
        "outputId": "c0838731-e98a-4659-cb00-60ae76d1c532"
      },
      "outputs": [
        {
          "output_type": "execute_result",
          "data": {
            "text/plain": [
              "Unnamed: 0                                               511566\n",
              "content       은행권 들어가다 나오다 태도 갑자기 이렇다 본인 관할 경찰서 기범 여보세요 피해자 ...\n",
              "target                                                     1012\n",
              "dtype: object"
            ]
          },
          "metadata": {},
          "execution_count": 10
        }
      ],
      "source": [
        "class_1.sum()"
      ]
    },
    {
      "cell_type": "code",
      "execution_count": null,
      "metadata": {
        "id": "BbOGT06ihcG9"
      },
      "outputs": [],
      "source": [
        "voice.drop(['Unnamed: 0'], axis = 1, inplace = True)"
      ]
    },
    {
      "cell_type": "code",
      "execution_count": null,
      "metadata": {
        "id": "OQLWU88Wglu2"
      },
      "outputs": [],
      "source": [
        "df_shuffled = sklearn.utils.shuffle(voice)\n",
        "\n",
        "train, test = train_test_split(voice, test_size=0.2)"
      ]
    },
    {
      "cell_type": "code",
      "execution_count": null,
      "metadata": {
        "id": "a3xHK6Oqgoyf",
        "colab": {
          "base_uri": "https://localhost:8080/",
          "height": 423
        },
        "outputId": "7bd9cf88-8826-4dc7-f39b-cabbdb5b4bb8"
      },
      "outputs": [
        {
          "output_type": "execute_result",
          "data": {
            "text/plain": [
              "                                                content  target\n",
              "107   성립 본인 께서 선택 사항 근무 집행 방 성립 사용 한번 협상 진행 녹취 부분 계속...       1\n",
              "82    기범 직급 과장 이세 피해자 기범 과장 께서 본인 명의 돼다 서류 서도 처분 겁니다...       1\n",
              "465   소비 대다 계약 공증 발건 진행 드릴 피해자 기범 신청 해드리다 공증 비용 쩍게 프...       1\n",
              "651   범용 피해자 내다 기범 피해자 갖다 그게 돼다 기범 대리 접수 고객 드리다 피해자 ...       1\n",
              "768   어떻다 걱정 말고 빨리 기기 괜히 빨리 본사 동해 본인 빨리 끝내다 어떻다 확인 가...       1\n",
              "...                                                 ...     ...\n",
              "992   기범 마지막 법률 본인 한테 고지 해드리다 본인 께서 라도 사건 다거나 은닉 형법 ...       1\n",
              "2183                           맞다 그리다 신청 명단 제출 나다 교재 수령       0\n",
              "6     기범 이동 어떻다 교통 수단 떤다 이용 하나요 피해자 걸다 갈다 농협 기범 걸리다 ...       1\n",
              "808   제출 그게 건가 대다 출금 오늘 고객 께서 한도 떨다 오늘 출금 까지는 늦다 까지는...       1\n",
              "576   해주시 육개 주의 해주다 바라다 피해자 알다 기범 이제 모든 계약 녹취 완료 수고 ...       1\n",
              "\n",
              "[2962 rows x 2 columns]"
            ],
            "text/html": [
              "\n",
              "  <div id=\"df-d4da5246-0a96-4562-ad06-f7895625dfca\" class=\"colab-df-container\">\n",
              "    <div>\n",
              "<style scoped>\n",
              "    .dataframe tbody tr th:only-of-type {\n",
              "        vertical-align: middle;\n",
              "    }\n",
              "\n",
              "    .dataframe tbody tr th {\n",
              "        vertical-align: top;\n",
              "    }\n",
              "\n",
              "    .dataframe thead th {\n",
              "        text-align: right;\n",
              "    }\n",
              "</style>\n",
              "<table border=\"1\" class=\"dataframe\">\n",
              "  <thead>\n",
              "    <tr style=\"text-align: right;\">\n",
              "      <th></th>\n",
              "      <th>content</th>\n",
              "      <th>target</th>\n",
              "    </tr>\n",
              "  </thead>\n",
              "  <tbody>\n",
              "    <tr>\n",
              "      <th>107</th>\n",
              "      <td>성립 본인 께서 선택 사항 근무 집행 방 성립 사용 한번 협상 진행 녹취 부분 계속...</td>\n",
              "      <td>1</td>\n",
              "    </tr>\n",
              "    <tr>\n",
              "      <th>82</th>\n",
              "      <td>기범 직급 과장 이세 피해자 기범 과장 께서 본인 명의 돼다 서류 서도 처분 겁니다...</td>\n",
              "      <td>1</td>\n",
              "    </tr>\n",
              "    <tr>\n",
              "      <th>465</th>\n",
              "      <td>소비 대다 계약 공증 발건 진행 드릴 피해자 기범 신청 해드리다 공증 비용 쩍게 프...</td>\n",
              "      <td>1</td>\n",
              "    </tr>\n",
              "    <tr>\n",
              "      <th>651</th>\n",
              "      <td>범용 피해자 내다 기범 피해자 갖다 그게 돼다 기범 대리 접수 고객 드리다 피해자 ...</td>\n",
              "      <td>1</td>\n",
              "    </tr>\n",
              "    <tr>\n",
              "      <th>768</th>\n",
              "      <td>어떻다 걱정 말고 빨리 기기 괜히 빨리 본사 동해 본인 빨리 끝내다 어떻다 확인 가...</td>\n",
              "      <td>1</td>\n",
              "    </tr>\n",
              "    <tr>\n",
              "      <th>...</th>\n",
              "      <td>...</td>\n",
              "      <td>...</td>\n",
              "    </tr>\n",
              "    <tr>\n",
              "      <th>992</th>\n",
              "      <td>기범 마지막 법률 본인 한테 고지 해드리다 본인 께서 라도 사건 다거나 은닉 형법 ...</td>\n",
              "      <td>1</td>\n",
              "    </tr>\n",
              "    <tr>\n",
              "      <th>2183</th>\n",
              "      <td>맞다 그리다 신청 명단 제출 나다 교재 수령</td>\n",
              "      <td>0</td>\n",
              "    </tr>\n",
              "    <tr>\n",
              "      <th>6</th>\n",
              "      <td>기범 이동 어떻다 교통 수단 떤다 이용 하나요 피해자 걸다 갈다 농협 기범 걸리다 ...</td>\n",
              "      <td>1</td>\n",
              "    </tr>\n",
              "    <tr>\n",
              "      <th>808</th>\n",
              "      <td>제출 그게 건가 대다 출금 오늘 고객 께서 한도 떨다 오늘 출금 까지는 늦다 까지는...</td>\n",
              "      <td>1</td>\n",
              "    </tr>\n",
              "    <tr>\n",
              "      <th>576</th>\n",
              "      <td>해주시 육개 주의 해주다 바라다 피해자 알다 기범 이제 모든 계약 녹취 완료 수고 ...</td>\n",
              "      <td>1</td>\n",
              "    </tr>\n",
              "  </tbody>\n",
              "</table>\n",
              "<p>2962 rows × 2 columns</p>\n",
              "</div>\n",
              "    <div class=\"colab-df-buttons\">\n",
              "\n",
              "  <div class=\"colab-df-container\">\n",
              "    <button class=\"colab-df-convert\" onclick=\"convertToInteractive('df-d4da5246-0a96-4562-ad06-f7895625dfca')\"\n",
              "            title=\"Convert this dataframe to an interactive table.\"\n",
              "            style=\"display:none;\">\n",
              "\n",
              "  <svg xmlns=\"http://www.w3.org/2000/svg\" height=\"24px\" viewBox=\"0 -960 960 960\">\n",
              "    <path d=\"M120-120v-720h720v720H120Zm60-500h600v-160H180v160Zm220 220h160v-160H400v160Zm0 220h160v-160H400v160ZM180-400h160v-160H180v160Zm440 0h160v-160H620v160ZM180-180h160v-160H180v160Zm440 0h160v-160H620v160Z\"/>\n",
              "  </svg>\n",
              "    </button>\n",
              "\n",
              "  <style>\n",
              "    .colab-df-container {\n",
              "      display:flex;\n",
              "      gap: 12px;\n",
              "    }\n",
              "\n",
              "    .colab-df-convert {\n",
              "      background-color: #E8F0FE;\n",
              "      border: none;\n",
              "      border-radius: 50%;\n",
              "      cursor: pointer;\n",
              "      display: none;\n",
              "      fill: #1967D2;\n",
              "      height: 32px;\n",
              "      padding: 0 0 0 0;\n",
              "      width: 32px;\n",
              "    }\n",
              "\n",
              "    .colab-df-convert:hover {\n",
              "      background-color: #E2EBFA;\n",
              "      box-shadow: 0px 1px 2px rgba(60, 64, 67, 0.3), 0px 1px 3px 1px rgba(60, 64, 67, 0.15);\n",
              "      fill: #174EA6;\n",
              "    }\n",
              "\n",
              "    .colab-df-buttons div {\n",
              "      margin-bottom: 4px;\n",
              "    }\n",
              "\n",
              "    [theme=dark] .colab-df-convert {\n",
              "      background-color: #3B4455;\n",
              "      fill: #D2E3FC;\n",
              "    }\n",
              "\n",
              "    [theme=dark] .colab-df-convert:hover {\n",
              "      background-color: #434B5C;\n",
              "      box-shadow: 0px 1px 3px 1px rgba(0, 0, 0, 0.15);\n",
              "      filter: drop-shadow(0px 1px 2px rgba(0, 0, 0, 0.3));\n",
              "      fill: #FFFFFF;\n",
              "    }\n",
              "  </style>\n",
              "\n",
              "    <script>\n",
              "      const buttonEl =\n",
              "        document.querySelector('#df-d4da5246-0a96-4562-ad06-f7895625dfca button.colab-df-convert');\n",
              "      buttonEl.style.display =\n",
              "        google.colab.kernel.accessAllowed ? 'block' : 'none';\n",
              "\n",
              "      async function convertToInteractive(key) {\n",
              "        const element = document.querySelector('#df-d4da5246-0a96-4562-ad06-f7895625dfca');\n",
              "        const dataTable =\n",
              "          await google.colab.kernel.invokeFunction('convertToInteractive',\n",
              "                                                    [key], {});\n",
              "        if (!dataTable) return;\n",
              "\n",
              "        const docLinkHtml = 'Like what you see? Visit the ' +\n",
              "          '<a target=\"_blank\" href=https://colab.research.google.com/notebooks/data_table.ipynb>data table notebook</a>'\n",
              "          + ' to learn more about interactive tables.';\n",
              "        element.innerHTML = '';\n",
              "        dataTable['output_type'] = 'display_data';\n",
              "        await google.colab.output.renderOutput(dataTable, element);\n",
              "        const docLink = document.createElement('div');\n",
              "        docLink.innerHTML = docLinkHtml;\n",
              "        element.appendChild(docLink);\n",
              "      }\n",
              "    </script>\n",
              "  </div>\n",
              "\n",
              "\n",
              "<div id=\"df-586ef984-0244-4c9f-97e0-66c07c05c4a4\">\n",
              "  <button class=\"colab-df-quickchart\" onclick=\"quickchart('df-586ef984-0244-4c9f-97e0-66c07c05c4a4')\"\n",
              "            title=\"Suggest charts\"\n",
              "            style=\"display:none;\">\n",
              "\n",
              "<svg xmlns=\"http://www.w3.org/2000/svg\" height=\"24px\"viewBox=\"0 0 24 24\"\n",
              "     width=\"24px\">\n",
              "    <g>\n",
              "        <path d=\"M19 3H5c-1.1 0-2 .9-2 2v14c0 1.1.9 2 2 2h14c1.1 0 2-.9 2-2V5c0-1.1-.9-2-2-2zM9 17H7v-7h2v7zm4 0h-2V7h2v10zm4 0h-2v-4h2v4z\"/>\n",
              "    </g>\n",
              "</svg>\n",
              "  </button>\n",
              "\n",
              "<style>\n",
              "  .colab-df-quickchart {\n",
              "      --bg-color: #E8F0FE;\n",
              "      --fill-color: #1967D2;\n",
              "      --hover-bg-color: #E2EBFA;\n",
              "      --hover-fill-color: #174EA6;\n",
              "      --disabled-fill-color: #AAA;\n",
              "      --disabled-bg-color: #DDD;\n",
              "  }\n",
              "\n",
              "  [theme=dark] .colab-df-quickchart {\n",
              "      --bg-color: #3B4455;\n",
              "      --fill-color: #D2E3FC;\n",
              "      --hover-bg-color: #434B5C;\n",
              "      --hover-fill-color: #FFFFFF;\n",
              "      --disabled-bg-color: #3B4455;\n",
              "      --disabled-fill-color: #666;\n",
              "  }\n",
              "\n",
              "  .colab-df-quickchart {\n",
              "    background-color: var(--bg-color);\n",
              "    border: none;\n",
              "    border-radius: 50%;\n",
              "    cursor: pointer;\n",
              "    display: none;\n",
              "    fill: var(--fill-color);\n",
              "    height: 32px;\n",
              "    padding: 0;\n",
              "    width: 32px;\n",
              "  }\n",
              "\n",
              "  .colab-df-quickchart:hover {\n",
              "    background-color: var(--hover-bg-color);\n",
              "    box-shadow: 0 1px 2px rgba(60, 64, 67, 0.3), 0 1px 3px 1px rgba(60, 64, 67, 0.15);\n",
              "    fill: var(--button-hover-fill-color);\n",
              "  }\n",
              "\n",
              "  .colab-df-quickchart-complete:disabled,\n",
              "  .colab-df-quickchart-complete:disabled:hover {\n",
              "    background-color: var(--disabled-bg-color);\n",
              "    fill: var(--disabled-fill-color);\n",
              "    box-shadow: none;\n",
              "  }\n",
              "\n",
              "  .colab-df-spinner {\n",
              "    border: 2px solid var(--fill-color);\n",
              "    border-color: transparent;\n",
              "    border-bottom-color: var(--fill-color);\n",
              "    animation:\n",
              "      spin 1s steps(1) infinite;\n",
              "  }\n",
              "\n",
              "  @keyframes spin {\n",
              "    0% {\n",
              "      border-color: transparent;\n",
              "      border-bottom-color: var(--fill-color);\n",
              "      border-left-color: var(--fill-color);\n",
              "    }\n",
              "    20% {\n",
              "      border-color: transparent;\n",
              "      border-left-color: var(--fill-color);\n",
              "      border-top-color: var(--fill-color);\n",
              "    }\n",
              "    30% {\n",
              "      border-color: transparent;\n",
              "      border-left-color: var(--fill-color);\n",
              "      border-top-color: var(--fill-color);\n",
              "      border-right-color: var(--fill-color);\n",
              "    }\n",
              "    40% {\n",
              "      border-color: transparent;\n",
              "      border-right-color: var(--fill-color);\n",
              "      border-top-color: var(--fill-color);\n",
              "    }\n",
              "    60% {\n",
              "      border-color: transparent;\n",
              "      border-right-color: var(--fill-color);\n",
              "    }\n",
              "    80% {\n",
              "      border-color: transparent;\n",
              "      border-right-color: var(--fill-color);\n",
              "      border-bottom-color: var(--fill-color);\n",
              "    }\n",
              "    90% {\n",
              "      border-color: transparent;\n",
              "      border-bottom-color: var(--fill-color);\n",
              "    }\n",
              "  }\n",
              "</style>\n",
              "\n",
              "  <script>\n",
              "    async function quickchart(key) {\n",
              "      const quickchartButtonEl =\n",
              "        document.querySelector('#' + key + ' button');\n",
              "      quickchartButtonEl.disabled = true;  // To prevent multiple clicks.\n",
              "      quickchartButtonEl.classList.add('colab-df-spinner');\n",
              "      try {\n",
              "        const charts = await google.colab.kernel.invokeFunction(\n",
              "            'suggestCharts', [key], {});\n",
              "      } catch (error) {\n",
              "        console.error('Error during call to suggestCharts:', error);\n",
              "      }\n",
              "      quickchartButtonEl.classList.remove('colab-df-spinner');\n",
              "      quickchartButtonEl.classList.add('colab-df-quickchart-complete');\n",
              "    }\n",
              "    (() => {\n",
              "      let quickchartButtonEl =\n",
              "        document.querySelector('#df-586ef984-0244-4c9f-97e0-66c07c05c4a4 button');\n",
              "      quickchartButtonEl.style.display =\n",
              "        google.colab.kernel.accessAllowed ? 'block' : 'none';\n",
              "    })();\n",
              "  </script>\n",
              "</div>\n",
              "    </div>\n",
              "  </div>\n"
            ]
          },
          "metadata": {},
          "execution_count": 13
        }
      ],
      "source": [
        "train"
      ]
    },
    {
      "cell_type": "code",
      "execution_count": null,
      "metadata": {
        "id": "X7flnJfK4Qhp"
      },
      "outputs": [],
      "source": [
        "CHECKPOINT_NAME = 'kykim/bert-kor-base'"
      ]
    },
    {
      "cell_type": "code",
      "execution_count": null,
      "metadata": {
        "colab": {
          "base_uri": "https://localhost:8080/"
        },
        "id": "4g2u1YgU4VzZ",
        "outputId": "a0c3ce44-9971-403f-9f63-4137adff6baf"
      },
      "outputs": [
        {
          "output_type": "stream",
          "name": "stdout",
          "text": [
            "Requirement already satisfied: transformers in /usr/local/lib/python3.10/dist-packages (4.35.0)\n",
            "Requirement already satisfied: filelock in /usr/local/lib/python3.10/dist-packages (from transformers) (3.13.1)\n",
            "Requirement already satisfied: huggingface-hub<1.0,>=0.16.4 in /usr/local/lib/python3.10/dist-packages (from transformers) (0.17.3)\n",
            "Requirement already satisfied: numpy>=1.17 in /usr/local/lib/python3.10/dist-packages (from transformers) (1.23.5)\n",
            "Requirement already satisfied: packaging>=20.0 in /usr/local/lib/python3.10/dist-packages (from transformers) (23.2)\n",
            "Requirement already satisfied: pyyaml>=5.1 in /usr/local/lib/python3.10/dist-packages (from transformers) (6.0.1)\n",
            "Requirement already satisfied: regex!=2019.12.17 in /usr/local/lib/python3.10/dist-packages (from transformers) (2023.6.3)\n",
            "Requirement already satisfied: requests in /usr/local/lib/python3.10/dist-packages (from transformers) (2.31.0)\n",
            "Requirement already satisfied: tokenizers<0.15,>=0.14 in /usr/local/lib/python3.10/dist-packages (from transformers) (0.14.1)\n",
            "Requirement already satisfied: safetensors>=0.3.1 in /usr/local/lib/python3.10/dist-packages (from transformers) (0.4.0)\n",
            "Requirement already satisfied: tqdm>=4.27 in /usr/local/lib/python3.10/dist-packages (from transformers) (4.66.1)\n",
            "Requirement already satisfied: fsspec in /usr/local/lib/python3.10/dist-packages (from huggingface-hub<1.0,>=0.16.4->transformers) (2023.6.0)\n",
            "Requirement already satisfied: typing-extensions>=3.7.4.3 in /usr/local/lib/python3.10/dist-packages (from huggingface-hub<1.0,>=0.16.4->transformers) (4.5.0)\n",
            "Requirement already satisfied: charset-normalizer<4,>=2 in /usr/local/lib/python3.10/dist-packages (from requests->transformers) (3.3.2)\n",
            "Requirement already satisfied: idna<4,>=2.5 in /usr/local/lib/python3.10/dist-packages (from requests->transformers) (3.4)\n",
            "Requirement already satisfied: urllib3<3,>=1.21.1 in /usr/local/lib/python3.10/dist-packages (from requests->transformers) (2.0.7)\n",
            "Requirement already satisfied: certifi>=2017.4.17 in /usr/local/lib/python3.10/dist-packages (from requests->transformers) (2023.7.22)\n"
          ]
        }
      ],
      "source": [
        "!pip install transformers"
      ]
    },
    {
      "cell_type": "code",
      "execution_count": null,
      "metadata": {
        "id": "DW25-Ipw4SN5"
      },
      "outputs": [],
      "source": [
        "import torch\n",
        "from transformers import BertTokenizerFast\n",
        "from torch.utils.data import Dataset, DataLoader"
      ]
    },
    {
      "cell_type": "code",
      "execution_count": null,
      "metadata": {
        "id": "ZZWroQiW4UK5"
      },
      "outputs": [],
      "source": [
        "class TokenDataset(Dataset):\n",
        "\n",
        "    def __init__(self, dataframe, tokenizer_pretrained):\n",
        "        self.data = dataframe\n",
        "        # Huggingface 토크나이저 생성\n",
        "        self.tokenizer = BertTokenizerFast.from_pretrained(tokenizer_pretrained)\n",
        "\n",
        "    def __len__(self):\n",
        "        return len(self.data)\n",
        "\n",
        "    def __getitem__(self, idx):\n",
        "        text = self.data.iloc[idx]['content']\n",
        "        label = self.data.iloc[idx]['target']\n",
        "\n",
        "        # 토큰화 처리\n",
        "        tokens = self.tokenizer(\n",
        "            text,\n",
        "            return_tensors='pt',     # 텐서로 반환\n",
        "            truncation=True,         # 잘라내기 적용\n",
        "            padding='max_length',    # 패딩 적용\n",
        "            add_special_tokens=True  # 스페셜 토큰 적용\n",
        "        )\n",
        "\n",
        "        input_ids = tokens['input_ids'].squeeze(0)\n",
        "        attention_mask = tokens['attention_mask'].squeeze(0)\n",
        "        token_type_ids = torch.zeros_like(attention_mask)\n",
        "\n",
        "        return {\n",
        "            'input_ids': input_ids,\n",
        "            'attention_mask': attention_mask,\n",
        "            'token_type_ids': token_type_ids,\n",
        "        }, torch.tensor(label)\n"
      ]
    },
    {
      "cell_type": "code",
      "execution_count": null,
      "metadata": {
        "id": "3XIbc0Rx4e2G"
      },
      "outputs": [],
      "source": [
        "# 토크나이저 지정\n",
        "tokenizer_pretrained = CHECKPOINT_NAME\n",
        "\n",
        "# train, test 데이터셋 생성\n",
        "train_data = TokenDataset(train, tokenizer_pretrained)\n",
        "test_data = TokenDataset(test, tokenizer_pretrained)\n",
        "\n",
        "# DataLoader로 이전에 생성한 Dataset를 지정하여, batch 구성, shuffle, num_workers 등을 설정합니다.\n",
        "train_loader = DataLoader(train_data, batch_size=8, shuffle=True, num_workers=0)\n",
        "test_loader = DataLoader(test_data, batch_size=8, shuffle=True, num_workers=0)"
      ]
    },
    {
      "cell_type": "code",
      "execution_count": null,
      "metadata": {
        "id": "DEN_mKha4tcx",
        "colab": {
          "base_uri": "https://localhost:8080/"
        },
        "outputId": "65264028-1005-4be6-8db5-35df0425a4ef"
      },
      "outputs": [
        {
          "output_type": "execute_result",
          "data": {
            "text/plain": [
              "BertConfig {\n",
              "  \"architectures\": [\n",
              "    \"BertForMaskedLM\"\n",
              "  ],\n",
              "  \"attention_probs_dropout_prob\": 0.1,\n",
              "  \"classifier_dropout\": null,\n",
              "  \"directionality\": \"bidi\",\n",
              "  \"embedding_size\": 768,\n",
              "  \"gradient_checkpointing\": false,\n",
              "  \"hidden_act\": \"gelu\",\n",
              "  \"hidden_dropout_prob\": 0.1,\n",
              "  \"hidden_size\": 768,\n",
              "  \"initializer_range\": 0.02,\n",
              "  \"intermediate_size\": 3072,\n",
              "  \"layer_norm_eps\": 1e-12,\n",
              "  \"max_position_embeddings\": 512,\n",
              "  \"model_type\": \"bert\",\n",
              "  \"num_attention_heads\": 12,\n",
              "  \"num_hidden_layers\": 12,\n",
              "  \"pad_token_id\": 0,\n",
              "  \"pooler_fc_size\": 768,\n",
              "  \"pooler_num_attention_heads\": 12,\n",
              "  \"pooler_num_fc_layers\": 3,\n",
              "  \"pooler_size_per_head\": 128,\n",
              "  \"pooler_type\": \"first_token_transform\",\n",
              "  \"position_embedding_type\": \"absolute\",\n",
              "  \"transformers_version\": \"4.35.0\",\n",
              "  \"type_vocab_size\": 2,\n",
              "  \"use_cache\": true,\n",
              "  \"vocab_size\": 42000\n",
              "}"
            ]
          },
          "metadata": {},
          "execution_count": 27
        }
      ],
      "source": [
        "from transformers import BertConfig\n",
        "\n",
        "config = BertConfig.from_pretrained(CHECKPOINT_NAME)\n",
        "config"
      ]
    },
    {
      "cell_type": "code",
      "execution_count": null,
      "metadata": {
        "id": "ZgbTsL-K4zSp",
        "colab": {
          "base_uri": "https://localhost:8080/"
        },
        "outputId": "a1fdcabc-b510-47db-919e-365e451c193d"
      },
      "outputs": [
        {
          "output_type": "execute_result",
          "data": {
            "text/plain": [
              "BertModel(\n",
              "  (embeddings): BertEmbeddings(\n",
              "    (word_embeddings): Embedding(42000, 768, padding_idx=0)\n",
              "    (position_embeddings): Embedding(512, 768)\n",
              "    (token_type_embeddings): Embedding(2, 768)\n",
              "    (LayerNorm): LayerNorm((768,), eps=1e-12, elementwise_affine=True)\n",
              "    (dropout): Dropout(p=0.1, inplace=False)\n",
              "  )\n",
              "  (encoder): BertEncoder(\n",
              "    (layer): ModuleList(\n",
              "      (0-11): 12 x BertLayer(\n",
              "        (attention): BertAttention(\n",
              "          (self): BertSelfAttention(\n",
              "            (query): Linear(in_features=768, out_features=768, bias=True)\n",
              "            (key): Linear(in_features=768, out_features=768, bias=True)\n",
              "            (value): Linear(in_features=768, out_features=768, bias=True)\n",
              "            (dropout): Dropout(p=0.1, inplace=False)\n",
              "          )\n",
              "          (output): BertSelfOutput(\n",
              "            (dense): Linear(in_features=768, out_features=768, bias=True)\n",
              "            (LayerNorm): LayerNorm((768,), eps=1e-12, elementwise_affine=True)\n",
              "            (dropout): Dropout(p=0.1, inplace=False)\n",
              "          )\n",
              "        )\n",
              "        (intermediate): BertIntermediate(\n",
              "          (dense): Linear(in_features=768, out_features=3072, bias=True)\n",
              "          (intermediate_act_fn): GELUActivation()\n",
              "        )\n",
              "        (output): BertOutput(\n",
              "          (dense): Linear(in_features=3072, out_features=768, bias=True)\n",
              "          (LayerNorm): LayerNorm((768,), eps=1e-12, elementwise_affine=True)\n",
              "          (dropout): Dropout(p=0.1, inplace=False)\n",
              "        )\n",
              "      )\n",
              "    )\n",
              "  )\n",
              "  (pooler): BertPooler(\n",
              "    (dense): Linear(in_features=768, out_features=768, bias=True)\n",
              "    (activation): Tanh()\n",
              "  )\n",
              ")"
            ]
          },
          "metadata": {},
          "execution_count": 29
        }
      ],
      "source": [
        "from transformers import BertModel\n",
        "\n",
        "# 모델 생성\n",
        "model_bert = BertModel.from_pretrained(CHECKPOINT_NAME).to(device)\n",
        "model_bert"
      ]
    },
    {
      "cell_type": "code",
      "execution_count": null,
      "metadata": {
        "id": "DZAe7pPw5H-c"
      },
      "outputs": [],
      "source": [
        "class CustomBertModel(nn.Module):\n",
        "    def __init__(self, bert_pretrained, dropout_rate=0.5):\n",
        "        # 부모클래스 초기화\n",
        "        super(CustomBertModel, self).__init__()\n",
        "        # 사전학습 모델 지정\n",
        "        self.bert = BertModel.from_pretrained(bert_pretrained)\n",
        "        # dropout 설정\n",
        "        self.dr = nn.Dropout(p=dropout_rate)\n",
        "        # 최종 출력층 정의\n",
        "        self.fc = nn.Linear(768, 2)\n",
        "\n",
        "    def forward(self, input_ids, attention_mask, token_type_ids):\n",
        "        # 입력을 pre-trained bert model 로 대입\n",
        "        output = self.bert(input_ids=input_ids, attention_mask=attention_mask, token_type_ids=token_type_ids)\n",
        "        # 결과의 last_hidden_state 가져옴\n",
        "        last_hidden_state = output['last_hidden_state']\n",
        "        # last_hidden_state[:, 0, :]는 [CLS] 토큰을 가져옴\n",
        "        x = self.dr(last_hidden_state[:, 0, :])\n",
        "        # FC 을 거쳐 최종 출력\n",
        "        x = self.fc(x)\n",
        "        return x"
      ]
    },
    {
      "cell_type": "code",
      "execution_count": null,
      "metadata": {
        "id": "e15wTPTf5OWM",
        "colab": {
          "base_uri": "https://localhost:8080/"
        },
        "outputId": "f7363778-33ac-4a09-983e-dca2933d5a18"
      },
      "outputs": [
        {
          "output_type": "execute_result",
          "data": {
            "text/plain": [
              "CustomBertModel(\n",
              "  (bert): BertModel(\n",
              "    (embeddings): BertEmbeddings(\n",
              "      (word_embeddings): Embedding(42000, 768, padding_idx=0)\n",
              "      (position_embeddings): Embedding(512, 768)\n",
              "      (token_type_embeddings): Embedding(2, 768)\n",
              "      (LayerNorm): LayerNorm((768,), eps=1e-12, elementwise_affine=True)\n",
              "      (dropout): Dropout(p=0.1, inplace=False)\n",
              "    )\n",
              "    (encoder): BertEncoder(\n",
              "      (layer): ModuleList(\n",
              "        (0-11): 12 x BertLayer(\n",
              "          (attention): BertAttention(\n",
              "            (self): BertSelfAttention(\n",
              "              (query): Linear(in_features=768, out_features=768, bias=True)\n",
              "              (key): Linear(in_features=768, out_features=768, bias=True)\n",
              "              (value): Linear(in_features=768, out_features=768, bias=True)\n",
              "              (dropout): Dropout(p=0.1, inplace=False)\n",
              "            )\n",
              "            (output): BertSelfOutput(\n",
              "              (dense): Linear(in_features=768, out_features=768, bias=True)\n",
              "              (LayerNorm): LayerNorm((768,), eps=1e-12, elementwise_affine=True)\n",
              "              (dropout): Dropout(p=0.1, inplace=False)\n",
              "            )\n",
              "          )\n",
              "          (intermediate): BertIntermediate(\n",
              "            (dense): Linear(in_features=768, out_features=3072, bias=True)\n",
              "            (intermediate_act_fn): GELUActivation()\n",
              "          )\n",
              "          (output): BertOutput(\n",
              "            (dense): Linear(in_features=3072, out_features=768, bias=True)\n",
              "            (LayerNorm): LayerNorm((768,), eps=1e-12, elementwise_affine=True)\n",
              "            (dropout): Dropout(p=0.1, inplace=False)\n",
              "          )\n",
              "        )\n",
              "      )\n",
              "    )\n",
              "    (pooler): BertPooler(\n",
              "      (dense): Linear(in_features=768, out_features=768, bias=True)\n",
              "      (activation): Tanh()\n",
              "    )\n",
              "  )\n",
              "  (dr): Dropout(p=0.5, inplace=False)\n",
              "  (fc): Linear(in_features=768, out_features=2, bias=True)\n",
              ")"
            ]
          },
          "metadata": {},
          "execution_count": 36
        }
      ],
      "source": [
        "# CustomBertModel 생성\n",
        "bert = CustomBertModel(CHECKPOINT_NAME)\n",
        "bert.to(device)"
      ]
    },
    {
      "cell_type": "code",
      "execution_count": null,
      "metadata": {
        "id": "uGNP5Q205ls0"
      },
      "outputs": [],
      "source": [
        "# loss 정의: CrossEntropyLoss\n",
        "loss_fn = nn.CrossEntropyLoss()\n",
        "\n",
        "# 옵티마이저 정의: bert.paramters()와 learning_rate 설정\n",
        "optimizer = optim.Adam(bert.parameters(), lr=1e-5)"
      ]
    },
    {
      "cell_type": "code",
      "execution_count": null,
      "metadata": {
        "id": "7bsPR5QN5os9"
      },
      "outputs": [],
      "source": [
        "from tqdm import tqdm  # Progress Bar 출력\n",
        "\n",
        "def model_train(model, data_loader, loss_fn, optimizer, device):\n",
        "    # 모델을 훈련모드로 설정합니다. training mode 일 때 Gradient 가 업데이트 됩니다. 반드시 train()으로 모드 변경을 해야 합니다.\n",
        "    model.train()\n",
        "\n",
        "    # loss와 accuracy 계산을 위한 임시 변수 입니다. 0으로 초기화합니다.\n",
        "    running_loss = 0\n",
        "    corr = 0\n",
        "    counts = 0\n",
        "\n",
        "    # 예쁘게 Progress Bar를 출력하면서 훈련 상태를 모니터링 하기 위하여 tqdm으로 래핑합니다.\n",
        "    prograss_bar = tqdm(data_loader, unit='batch', total=len(data_loader), mininterval=1)\n",
        "\n",
        "    # mini-batch 학습을 시작합니다.\n",
        "    for idx, (inputs, labels) in enumerate(prograss_bar):\n",
        "        # inputs, label 데이터를 device 에 올립니다. (cuda:0 혹은 cpu)\n",
        "        inputs = {k:v.to(device) for k, v in inputs.items()}\n",
        "        labels = labels.to(device)\n",
        "\n",
        "        # 누적 Gradient를 초기화 합니다.\n",
        "        optimizer.zero_grad()\n",
        "\n",
        "        # Forward Propagation을 진행하여 결과를 얻습니다.\n",
        "        output = model(**inputs)\n",
        "\n",
        "        # 손실함수에 output, label 값을 대입하여 손실을 계산합니다.\n",
        "        loss = loss_fn(output, labels)\n",
        "\n",
        "        # 오차역전파(Back Propagation)을 진행하여 미분 값을 계산합니다.\n",
        "        loss.backward()\n",
        "\n",
        "        # 계산된 Gradient를 업데이트 합니다.\n",
        "        optimizer.step()\n",
        "\n",
        "        # output의 max(dim=1)은 max probability와 max index를 반환합니다.\n",
        "        # max probability는 무시하고, max index는 pred에 저장하여 label 값과 대조하여 정확도를 도출합니다.\n",
        "        _, pred = output.max(dim=1)\n",
        "\n",
        "        # pred.eq(lbl).sum() 은 정확히 맞춘 label의 합계를 계산합니다. item()은 tensor에서 값을 추출합니다.\n",
        "        # 합계는 corr 변수에 누적합니다.\n",
        "        corr += pred.eq(labels).sum().item()\n",
        "        counts += len(labels)\n",
        "\n",
        "        # loss 값은 1개 배치의 평균 손실(loss) 입니다. img.size(0)은 배치사이즈(batch size) 입니다.\n",
        "        # loss 와 img.size(0)를 곱하면 1개 배치의 전체 loss가 계산됩니다.\n",
        "        # 이를 누적한 뒤 Epoch 종료시 전체 데이터셋의 개수로 나누어 평균 loss를 산출합니다.\n",
        "        running_loss += loss.item() * labels.size(0)\n",
        "\n",
        "        # 프로그레스바에 학습 상황 업데이트\n",
        "        prograss_bar.set_description(f\"training loss: {running_loss/(idx+1):.5f}, training accuracy: {corr / counts:.5f}\")\n",
        "\n",
        "    # 누적된 정답수를 전체 개수로 나누어 주면 정확도가 산출됩니다.\n",
        "    acc = corr / len(data_loader.dataset)\n",
        "\n",
        "    # 평균 손실(loss)과 정확도를 반환합니다.\n",
        "    # train_loss, train_acc\n",
        "    return running_loss / len(data_loader.dataset), acc"
      ]
    },
    {
      "cell_type": "code",
      "execution_count": null,
      "metadata": {
        "id": "DiWgUqbF5qv0"
      },
      "outputs": [],
      "source": [
        "def model_evaluate(model, data_loader, loss_fn, device):\n",
        "    # model.eval()은 모델을 평가모드로 설정을 바꾸어 줍니다.\n",
        "    # dropout과 같은 layer의 역할 변경을 위하여 evaluation 진행시 꼭 필요한 절차 입니다.\n",
        "    model.eval()\n",
        "\n",
        "    # Gradient가 업데이트 되는 것을 방지 하기 위하여 반드시 필요합니다.\n",
        "    with torch.no_grad():\n",
        "        # loss와 accuracy 계산을 위한 임시 변수 입니다. 0으로 초기화합니다.\n",
        "        corr = 0\n",
        "        running_loss = 0\n",
        "\n",
        "        # 배치별 evaluation을 진행합니다.\n",
        "        for inputs, labels in data_loader:\n",
        "            # inputs, label 데이터를 device 에 올립니다. (cuda:0 혹은 cpu)\n",
        "            inputs = {k:v.to(device) for k, v in inputs.items()}\n",
        "            labels = labels.to(device)\n",
        "\n",
        "            # 모델에 Forward Propagation을 하여 결과를 도출합니다.\n",
        "            output = model(**inputs)\n",
        "\n",
        "            # output의 max(dim=1)은 max probability와 max index를 반환합니다.\n",
        "            # max probability는 무시하고, max index는 pred에 저장하여 label 값과 대조하여 정확도를 도출합니다.\n",
        "            _, pred = output.max(dim=1)\n",
        "\n",
        "            # pred.eq(lbl).sum() 은 정확히 맞춘 label의 합계를 계산합니다. item()은 tensor에서 값을 추출합니다.\n",
        "            # 합계는 corr 변수에 누적합니다.\n",
        "            corr += torch.sum(pred.eq(labels)).item()\n",
        "\n",
        "            # loss 값은 1개 배치의 평균 손실(loss) 입니다. img.size(0)은 배치사이즈(batch size) 입니다.\n",
        "            # loss 와 img.size(0)를 곱하면 1개 배치의 전체 loss가 계산됩니다.\n",
        "            # 이를 누적한 뒤 Epoch 종료시 전체 데이터셋의 개수로 나누어 평균 loss를 산출합니다.\n",
        "            running_loss += loss_fn(output, labels).item() * labels.size(0)\n",
        "\n",
        "        # validation 정확도를 계산합니다.\n",
        "        # 누적한 정답숫자를 전체 데이터셋의 숫자로 나누어 최종 accuracy를 산출합니다.\n",
        "        acc = corr / len(data_loader.dataset)\n",
        "\n",
        "        # 결과를 반환합니다.\n",
        "        # val_loss, val_acc\n",
        "        return running_loss / len(data_loader.dataset), acc"
      ]
    },
    {
      "cell_type": "code",
      "execution_count": null,
      "metadata": {
        "id": "RwixUC2g547k",
        "colab": {
          "base_uri": "https://localhost:8080/"
        },
        "outputId": "8e7bfeae-942b-4a30-b7cb-5ea872333e35"
      },
      "outputs": [
        {
          "output_type": "stream",
          "name": "stderr",
          "text": [
            "training loss: 0.09419, training accuracy: 0.99561: 100%|██████████| 371/371 [04:31<00:00,  1.36batch/s]\n"
          ]
        },
        {
          "output_type": "stream",
          "name": "stdout",
          "text": [
            "[INFO] val_loss has been improved from inf to 0.00007. Saving Model!\n",
            "epoch 01, loss: 0.01180, acc: 0.99561, val_loss: 0.00007, val_accuracy: 1.00000\n"
          ]
        },
        {
          "output_type": "stream",
          "name": "stderr",
          "text": [
            "training loss: 0.00145, training accuracy: 1.00000: 100%|██████████| 371/371 [04:37<00:00,  1.34batch/s]\n"
          ]
        },
        {
          "output_type": "stream",
          "name": "stdout",
          "text": [
            "[INFO] val_loss has been improved from 0.00007 to 0.00002. Saving Model!\n",
            "epoch 02, loss: 0.00018, acc: 1.00000, val_loss: 0.00002, val_accuracy: 1.00000\n"
          ]
        },
        {
          "output_type": "stream",
          "name": "stderr",
          "text": [
            "training loss: 0.00068, training accuracy: 1.00000: 100%|██████████| 371/371 [04:36<00:00,  1.34batch/s]\n"
          ]
        },
        {
          "output_type": "stream",
          "name": "stdout",
          "text": [
            "[INFO] val_loss has been improved from 0.00002 to 0.00001. Saving Model!\n",
            "epoch 03, loss: 0.00008, acc: 1.00000, val_loss: 0.00001, val_accuracy: 1.00000\n"
          ]
        }
      ],
      "source": [
        "import numpy as np\n",
        "\n",
        "# 최대 Epoch을 지정합니다.\n",
        "num_epochs = 3\n",
        "\n",
        "# checkpoint로 저장할 모델의 이름을 정의 합니다.\n",
        "model_name = 'bert-kor-base'\n",
        "\n",
        "min_loss = np.inf\n",
        "\n",
        "# Epoch 별 훈련 및 검증을 수행합니다.\n",
        "for epoch in range(num_epochs):\n",
        "    # Model Training\n",
        "    # 훈련 손실과 정확도를 반환 받습니다.\n",
        "    train_loss, train_acc = model_train(bert, train_loader, loss_fn, optimizer, device)\n",
        "\n",
        "    # 검증 손실과 검증 정확도를 반환 받습니다.\n",
        "    val_loss, val_acc = model_evaluate(bert, test_loader, loss_fn, device)\n",
        "\n",
        "    # val_loss 가 개선되었다면 min_loss를 갱신하고 model의 가중치(weights)를 저장합니다.\n",
        "    if val_loss < min_loss:\n",
        "        print(f'[INFO] val_loss has been improved from {min_loss:.5f} to {val_loss:.5f}. Saving Model!')\n",
        "        min_loss = val_loss\n",
        "        torch.save(bert.state_dict(), f'{model_name}.pth')\n",
        "\n",
        "    # Epoch 별 결과를 출력합니다.\n",
        "    print(f'epoch {epoch+1:02d}, loss: {train_loss:.5f}, acc: {train_acc:.5f}, val_loss: {val_loss:.5f}, val_accuracy: {val_acc:.5f}')"
      ]
    },
    {
      "cell_type": "code",
      "execution_count": null,
      "metadata": {
        "id": "7O_4azwm6DaM",
        "colab": {
          "base_uri": "https://localhost:8080/"
        },
        "outputId": "e5f65845-93a6-455f-ed4b-89456290dedf"
      },
      "outputs": [
        {
          "output_type": "execute_result",
          "data": {
            "text/plain": [
              "<All keys matched successfully>"
            ]
          },
          "metadata": {},
          "execution_count": 41
        }
      ],
      "source": [
        "# 저장한 state_dict를 로드 합니다.\n",
        "bert.load_state_dict(torch.load(f'{model_name}.pth'))"
      ]
    },
    {
      "cell_type": "code",
      "execution_count": null,
      "metadata": {
        "id": "0dhi4VZ56HWY"
      },
      "outputs": [],
      "source": [
        "class CustomPredictor():\n",
        "    def __init__(self, model, tokenizer, labels: dict):\n",
        "        self.model = model\n",
        "        self.tokenizer = tokenizer\n",
        "        self.labels = labels\n",
        "\n",
        "    def predict(self, sentence):\n",
        "        # 토큰화 처리\n",
        "        tokens = self.tokenizer(\n",
        "            sentence,                # 1개 문장\n",
        "            return_tensors='pt',     # 텐서로 반환\n",
        "            truncation=True,         # 잘라내기 적용\n",
        "            padding='max_length',    # 패딩 적용\n",
        "            add_special_tokens=True  # 스페셜 토큰 적용\n",
        "        )\n",
        "        tokens.to(device)\n",
        "        prediction = self.model(**tokens)\n",
        "        prediction = F.softmax(prediction, dim=1)\n",
        "        output = prediction.argmax(dim=1).item()\n",
        "        prob, result = prediction.max(dim=1)[0].item(), self.labels[output]\n",
        "        print(f'[{result}]\\n확률은: {prob*100:.3f}% 입니다.')"
      ]
    },
    {
      "cell_type": "code",
      "execution_count": null,
      "metadata": {
        "id": "I3mGv8WR7K3l"
      },
      "outputs": [],
      "source": [
        "# Huggingface 토크나이저 생성\n",
        "tokenizer = BertTokenizerFast.from_pretrained(CHECKPOINT_NAME)\n",
        "\n",
        "labels = {\n",
        "    0: '일반 대화 입니다.',\n",
        "    1: '보이스피싱 입니다.'\n",
        "}\n",
        "\n",
        "# CustomPredictor 인스턴스를 생성\n",
        "predictor = CustomPredictor(bert, tokenizer, labels)"
      ]
    },
    {
      "cell_type": "code",
      "execution_count": null,
      "metadata": {
        "id": "CTfYl-TIBIRl"
      },
      "outputs": [],
      "source": [
        "import pandas as pd\n",
        "import re\n",
        "#okt 형태소 분석기\n",
        "from konlpy.tag import Okt\n",
        "okt = Okt()\n",
        "\n",
        "#pykoSpacing 띄어쓰기\n",
        "# from pykoSpacing import Spacing\n",
        "# spacing = Spacing()\n",
        "\n",
        "# from hanspell import spell_checker\n",
        "\n",
        "\n",
        "#stopwords list txt file\n",
        "# with open('/content/drive/MyDrive/Colab Notebooks/AI_Hackathon/stopwords.txt', 'r') as f:\n",
        "#   list_file = f.readlines()\n",
        "with open('stopwords.txt', 'r') as f:\n",
        "  list_file = f.readlines()  # seeun\n",
        "stopwords = list_file[0].split(\" \")\n",
        "\n",
        "\n",
        "#각자 노트북마다 DATA_PATH가 조금씩 달라져 안되는 경우가 있습니다.(colab 공유 후 문제같음)\n",
        "#밑에 두개 다 시도해보시고 안되면 경로 확인 부탁드립니다\n",
        "#DATA_PATH = '/content/drive/MyDrive/Colab Notebooks/AI_Hackathon/data'\n",
        "DATA_PATH = 'data'\n",
        "\n",
        "\n",
        "#현재 여러가지 시도하느라 함수들이 중구난방입니다 -> 전처리 함수 나중에 따로 만들어서 합칠예정\n",
        "\n",
        "#txt file 읽어오기용-encoding=UTF8\n",
        "def read_txt_file(directory):\n",
        "  scripts = {}\n",
        "  scripts[\"content\"] = []\n",
        "\n",
        "  for file in os.listdir(directory):\n",
        "    if 'txt' in file:\n",
        "      script = open(os.path.join(directory, file), 'r', encoding='UTF8')\n",
        "      content = script.readlines()\n",
        "      scripts[\"content\"].append(content)\n",
        "\n",
        "  return pd.DataFrame.from_dict(scripts)\n",
        "\n",
        "#txt file 읽어오기용-encoding=cp949\n",
        "def read_txt_file2(directory):\n",
        "  scripts = {}\n",
        "  scripts[\"content\"] = []\n",
        "\n",
        "  for file in os.listdir(directory):\n",
        "    if 'txt' in file:\n",
        "      script = open(os.path.join(directory, file), 'r', encoding='cp949')\n",
        "      content = script.readlines()\n",
        "      scripts[\"content\"].append(content)\n",
        "\n",
        "  return pd.DataFrame.from_dict(scripts)\n",
        "\n",
        "#cleansing - 한글만 추출, 소문자화, 맞춤법(hanspell)\n",
        "def cleansing(content):\n",
        "  # 기호 제거하고 한글만 추출\n",
        "  # hangul = re.compile('[가-힣]+').findall(content)\n",
        "  # text = ' '.join(hangul)\n",
        "  t = re.sub(\"[^가-힣]+\", \" \", content)\n",
        "\n",
        "  #lower case\n",
        "  result = t.lower()\n",
        "  #맞춤법까지 추가하면 cleansing 완료\n",
        "\n",
        "  return result\n",
        "\n",
        "#text형태 : list\n",
        "def extract_words(text):\n",
        "  words = okt.normalize(text)\n",
        "  morph_words = okt.morphs(words, stem=True)\n",
        "  stopwords = list_file[0].split(\" \")\n",
        "  remove_stopwords = [x for x in morph_words if x not in stopwords]\n",
        "\n",
        "  one_word = [x for x in remove_stopwords if len(x) > 1 or x=='방' or x=='신' or x=='톡']\n",
        "  result = \" \".join(one_word)\n",
        "  return result\n",
        "\n",
        "#이게 최종 전처리 함수인데 아직 미완성 추후 정리예정\n",
        "#기능(읽어왔다는 전제)-cleansing진행->형태소분석->불용어제거\n",
        "\n",
        "def preprocessing(text):\n",
        "  result = cleansing(text)\n",
        "  result = result.replace(\" \",\"\") #효과적인 띄어쓰기를 위해 다 붙임\n",
        "  #띄어쓰기\n",
        "  # result = spacing(result)\n",
        "  words = extract_words(result) #간단한 맞춤법 교정\n",
        "\n",
        "\n",
        "  return words"
      ]
    },
    {
      "cell_type": "code",
      "execution_count": null,
      "metadata": {
        "id": "izWq0tWE7McF"
      },
      "outputs": [],
      "source": [
        "def predict_sentence(predictor):\n",
        "    input_sentence = input('문장을 입력해 주세요: ')\n",
        "    pre_sentence = preprocessing(input_sentence)\n",
        "    predictor.predict(pre_sentence)"
      ]
    },
    {
      "cell_type": "code",
      "execution_count": null,
      "metadata": {
        "id": "Rp1SqIiX7NwF",
        "colab": {
          "base_uri": "https://localhost:8080/"
        },
        "outputId": "3c1b09cd-6831-42c7-dd03-36da50100e31"
      },
      "outputs": [
        {
          "output_type": "stream",
          "name": "stdout",
          "text": [
            "문장을 입력해 주세요: 안녕, 오랜만이야. | 어떻게 지내? | 안녕! | 나도 오랜만이야. | 잘 지내고 있어. | 너는 어때? | 나도 괜찮아. | 일상생활이 바빠서 좀 피곤해. | 이해해. | 업무나 학교 어때? | 무슨 일 하고 있어?\n",
            "[일반 대화 입니다.]\n",
            "확률은: 98.678% 입니다.\n"
          ]
        }
      ],
      "source": [
        "# 예측할 대화 입력\n",
        "predict_sentence(predictor)"
      ]
    }
  ],
  "metadata": {
    "accelerator": "GPU",
    "colab": {
      "provenance": []
    },
    "kernelspec": {
      "display_name": "Python 3",
      "name": "python3"
    },
    "language_info": {
      "name": "python"
    }
  },
  "nbformat": 4,
  "nbformat_minor": 0
}